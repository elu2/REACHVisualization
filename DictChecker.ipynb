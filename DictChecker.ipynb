{
 "cells": [
  {
   "cell_type": "code",
   "execution_count": 2,
   "metadata": {},
   "outputs": [],
   "source": [
    "import pandas as pd"
   ]
  },
  {
   "cell_type": "code",
   "execution_count": 15,
   "metadata": {},
   "outputs": [
    {
     "name": "stdout",
     "output_type": "stream",
     "text": [
      "pubchem:644260 not in network.\n"
     ]
    }
   ],
   "source": [
    "edges_table = pd.read_csv(\"edges_table.csv\", encoding=\"latin-1\")\n",
    "sources = edges_table[\"source_id\"].tolist()\n",
    "targets = edges_table[\"target_id\"].tolist()\n",
    "color_col = edges_table[\"color_col\"].tolist()\n",
    "\n",
    "all_species = list(set(sources + targets))\n",
    "\n",
    "queries_id = []\n",
    "with open(\"query_list.txt\", 'r', encoding=\"UTF-8\") as query_list:\n",
    "    queries_id = query_list.readlines()\n",
    "\n",
    "queries_id = [line.strip() for line in queries_id]\n",
    "\n",
    "all_in = True\n",
    "for query in queries_id:\n",
    "    if query not in all_species:\n",
    "        print(f\"{query} not in network.\")\n",
    "        all_in = False\n",
    "    else:\n",
    "        continue\n",
    "\n",
    "if all_in == True:\n",
    "    print(\"All queries in network.\")"
   ]
  },
  {
   "cell_type": "markdown",
   "metadata": {},
   "source": [
    "-------------------------------------------------------------------------------------------------"
   ]
  },
  {
   "cell_type": "code",
   "execution_count": 17,
   "metadata": {},
   "outputs": [
    {
     "name": "stdout",
     "output_type": "stream",
     "text": [
      "uaz:UAZ6D617465726E616C20464144532067656E652076617269616E7473\n",
      "uniprot:Q9BXA5\n",
      "mesh:D055577\n",
      "CHEBI:145365\n",
      "pubchem:53481406\n",
      "uaz:UAZ5049334B2DCEB1\n",
      "uniprot:P13310\n",
      "uaz:UAZ6D69522D3130366220696E68696269746F72\n",
      "mesh:D001168\n",
      "CHEBI:5181\n"
     ]
    }
   ],
   "source": [
    "# Gets random species\n",
    "\n",
    "import random as r\n",
    "for i in range(0, 10):\n",
    "    print(all_species[r.randint(0, len(all_species))])"
   ]
  },
  {
   "cell_type": "code",
   "execution_count": null,
   "metadata": {},
   "outputs": [],
   "source": []
  },
  {
   "cell_type": "code",
   "execution_count": null,
   "metadata": {},
   "outputs": [],
   "source": []
  }
 ],
 "metadata": {
  "kernelspec": {
   "display_name": "Python 3",
   "language": "python",
   "name": "python3"
  },
  "language_info": {
   "codemirror_mode": {
    "name": "ipython",
    "version": 3
   },
   "file_extension": ".py",
   "mimetype": "text/x-python",
   "name": "python",
   "nbconvert_exporter": "python",
   "pygments_lexer": "ipython3",
   "version": "3.8.5"
  }
 },
 "nbformat": 4,
 "nbformat_minor": 4
}
