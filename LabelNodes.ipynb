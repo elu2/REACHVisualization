{
 "cells": [
  {
   "cell_type": "code",
   "execution_count": 4,
   "metadata": {},
   "outputs": [],
   "source": [
    "# Updating nodes to include label\n",
    "import pandas as pd\n",
    "import csv\n",
    "\n",
    "file_name = \"nodes_table_all.csv\"\n",
    "node_labels = []\n",
    "with open(file_name, \"r\") as nodes_table:\n",
    "    reader = nodes_table.readlines()\n",
    "    for row in reader[1:]:\n",
    "        node_labels.append(row.split(\"::\")[0][1:])\n",
    "        \n",
    "nodes_table = pd.read_csv(file_name, encoding='latin-1')\n",
    "nodes_table[\"label\"] = nodes_table[\"Id\"]\n",
    "del nodes_table['label']\n",
    "nodes_table[\"Label\"] = node_labels "
   ]
  },
  {
   "cell_type": "code",
   "execution_count": 5,
   "metadata": {},
   "outputs": [],
   "source": [
    "nodes_table.to_csv(\"nodes_table_all_labelled.csv\")"
   ]
  },
  {
   "cell_type": "code",
   "execution_count": 6,
   "metadata": {},
   "outputs": [
    {
     "data": {
      "text/html": [
       "<div>\n",
       "<style scoped>\n",
       "    .dataframe tbody tr th:only-of-type {\n",
       "        vertical-align: middle;\n",
       "    }\n",
       "\n",
       "    .dataframe tbody tr th {\n",
       "        vertical-align: top;\n",
       "    }\n",
       "\n",
       "    .dataframe thead th {\n",
       "        text-align: right;\n",
       "    }\n",
       "</style>\n",
       "<table border=\"1\" class=\"dataframe\">\n",
       "  <thead>\n",
       "    <tr style=\"text-align: right;\">\n",
       "      <th></th>\n",
       "      <th>Id</th>\n",
       "      <th>Label</th>\n",
       "    </tr>\n",
       "  </thead>\n",
       "  <tbody>\n",
       "    <tr>\n",
       "      <th>0</th>\n",
       "      <td>ROS::chebi:CHEBI:26523</td>\n",
       "      <td>ROS</td>\n",
       "    </tr>\n",
       "    <tr>\n",
       "      <th>1</th>\n",
       "      <td>LPS::uniprot:O14896</td>\n",
       "      <td>LPS</td>\n",
       "    </tr>\n",
       "    <tr>\n",
       "      <th>2</th>\n",
       "      <td>glucose::chebi:CHEBI:17234</td>\n",
       "      <td>glucose</td>\n",
       "    </tr>\n",
       "    <tr>\n",
       "      <th>3</th>\n",
       "      <td>heat::pfam:PF02985</td>\n",
       "      <td>heat</td>\n",
       "    </tr>\n",
       "    <tr>\n",
       "      <th>4</th>\n",
       "      <td>DSS::uniprot:P51843</td>\n",
       "      <td>DSS</td>\n",
       "    </tr>\n",
       "    <tr>\n",
       "      <th>...</th>\n",
       "      <td>...</td>\n",
       "      <td>...</td>\n",
       "    </tr>\n",
       "    <tr>\n",
       "      <th>36160</th>\n",
       "      <td>ß-catenin::uaz:UAZCEB22D636174656E696E.p@D1</td>\n",
       "      <td>ß-catenin</td>\n",
       "    </tr>\n",
       "    <tr>\n",
       "      <th>36161</th>\n",
       "      <td>ß-catenin::uaz:UAZCEB22D636174656E696E.t</td>\n",
       "      <td>ß-catenin</td>\n",
       "    </tr>\n",
       "    <tr>\n",
       "      <th>36162</th>\n",
       "      <td>E88</td>\n",
       "      <td>E88\"\\n</td>\n",
       "    </tr>\n",
       "    <tr>\n",
       "      <th>36163</th>\n",
       "      <td>d::uaz:UAZCE94.p@Y311</td>\n",
       "      <td>d</td>\n",
       "    </tr>\n",
       "    <tr>\n",
       "      <th>36164</th>\n",
       "      <td>&lt;U+0394&gt;::uaz:UAZCE94.m</td>\n",
       "      <td>&lt;U+0394&gt;</td>\n",
       "    </tr>\n",
       "  </tbody>\n",
       "</table>\n",
       "<p>36165 rows × 2 columns</p>\n",
       "</div>"
      ],
      "text/plain": [
       "                                                Id      Label\n",
       "0                           ROS::chebi:CHEBI:26523        ROS\n",
       "1                              LPS::uniprot:O14896        LPS\n",
       "2                       glucose::chebi:CHEBI:17234    glucose\n",
       "3                               heat::pfam:PF02985       heat\n",
       "4                              DSS::uniprot:P51843        DSS\n",
       "...                                            ...        ...\n",
       "36160  ß-catenin::uaz:UAZCEB22D636174656E696E.p@D1  ß-catenin\n",
       "36161     ß-catenin::uaz:UAZCEB22D636174656E696E.t  ß-catenin\n",
       "36162                                          E88     E88\"\\n\n",
       "36163                        d::uaz:UAZCE94.p@Y311          d\n",
       "36164                      <U+0394>::uaz:UAZCE94.m   <U+0394>\n",
       "\n",
       "[36165 rows x 2 columns]"
      ]
     },
     "execution_count": 6,
     "metadata": {},
     "output_type": "execute_result"
    }
   ],
   "source": [
    "nodes_table"
   ]
  },
  {
   "cell_type": "code",
   "execution_count": null,
   "metadata": {},
   "outputs": [],
   "source": []
  }
 ],
 "metadata": {
  "kernelspec": {
   "display_name": "Python 3",
   "language": "python",
   "name": "python3"
  },
  "language_info": {
   "codemirror_mode": {
    "name": "ipython",
    "version": 3
   },
   "file_extension": ".py",
   "mimetype": "text/x-python",
   "name": "python",
   "nbconvert_exporter": "python",
   "pygments_lexer": "ipython3",
   "version": "3.8.5"
  }
 },
 "nbformat": 4,
 "nbformat_minor": 4
}
