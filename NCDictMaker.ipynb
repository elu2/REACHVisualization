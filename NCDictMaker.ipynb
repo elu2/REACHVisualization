{
 "cells": [
  {
   "cell_type": "code",
   "execution_count": 37,
   "metadata": {},
   "outputs": [],
   "source": [
    "import pandas as pd\n",
    "import math"
   ]
  },
  {
   "cell_type": "code",
   "execution_count": 38,
   "metadata": {},
   "outputs": [],
   "source": [
    "df = pd.read_csv(\"NCLab_df.csv\")"
   ]
  },
  {
   "cell_type": "code",
   "execution_count": 39,
   "metadata": {},
   "outputs": [],
   "source": [
    "# Initialize the dictionary with each key as \"INPUT|CONTROLLER|x_a\" where x_a is activation type, and value being a list of \n",
    "# [num_mentions, pos_or_neg]\n",
    "\n",
    "interaction_dict = {}\n",
    "i = 0\n",
    "for i in range(0, len(df.INPUT)):\n",
    "    if df.NUM_LABEL[i] == 1:\n",
    "        interaction_dict[f\"{df.INPUT[i]}|{df.CONTROLLER[i]}|pos\"] = [df.COUNTER[i], df.NUM_LABEL[i]]\n",
    "    elif df.NUM_LABEL[i] == -1:\n",
    "        interaction_dict[f\"{df.OUTPUT[i]}|{df.CONTROLLER[i]}|neg\"] = [df.COUNTER[i], df.NUM_LABEL[i]]\n",
    "    elif df.NUM_LABEL[i] == 0:\n",
    "        interaction_dict[f\"{df.OUTPUT[i]}|{df.CONTROLLER[i]}|nan\"] = [df.COUNTER[i], df.NUM_LABEL[i]]\n",
    "    i += 1"
   ]
  },
  {
   "cell_type": "code",
   "execution_count": 40,
   "metadata": {},
   "outputs": [],
   "source": [
    "# We make a proportion dictionary with each key as \"Input/Output|Controller\" and each value as [pos_count, total_count]\n",
    "\n",
    "# initialize the dictionary\n",
    "prop_dict = {}\n",
    "\n",
    "for key in interaction_dict:\n",
    "    prop_dict[key[:-4]] = [0, 0]"
   ]
  },
  {
   "cell_type": "code",
   "execution_count": 41,
   "metadata": {},
   "outputs": [],
   "source": [
    "# Add just Input/Output|Controller as key to prop_dict, and if the activation is postive, add to the first element in the list value. Otherwise\n",
    "# just add to total.\n",
    "\n",
    "for key in interaction_dict:\n",
    "    split_key = key.split(\"|\")\n",
    "    count = interaction_dict[key][0]\n",
    "    if split_key[2] == \"pos\":\n",
    "        prop_dict[key[:-4]][0] += count\n",
    "        prop_dict[key[:-4]][1] += count\n",
    "\n",
    "    if split_key[2] == \"neg\":\n",
    "        prop_dict[key[:-4]][1] += count\n",
    "        \n",
    "    if split_key[2] == \"nan\":\n",
    "        prop_dict[key[:-4]][0] += count/2\n",
    "        prop_dict[key[:-4]][1] += count"
   ]
  },
  {
   "cell_type": "code",
   "execution_count": 42,
   "metadata": {},
   "outputs": [],
   "source": [
    "# for each entry in prop_dict, divide pos by total to get the proportion. Then input into the modified tanh function to get our edge value.\n",
    "# subtract 1 for tanh, leave -1 out for sigmoid\n",
    "\n",
    "for key in prop_dict:\n",
    "    proportion = prop_dict[key][0] / prop_dict[key][1]\n",
    "    y = (1/(1+math.exp(-5*(proportion-.5))))\n",
    "    prop_dict[key].append(y)"
   ]
  },
  {
   "cell_type": "code",
   "execution_count": 43,
   "metadata": {},
   "outputs": [],
   "source": [
    "# Change dictionary's form into dataframe-compatible form.\n",
    "df_dict = {\n",
    "    \"INPUT\": [],\n",
    "    \"CONTROLLER\": [],\n",
    "    \"EDGE\": [],\n",
    "    \"POS\": [],\n",
    "    \"TOTAL\": [],\n",
    "}\n",
    "for key in prop_dict:\n",
    "    met_input, met_cont = key.split(\"|\")\n",
    "    df_dict[\"INPUT\"].append(met_input)\n",
    "    df_dict[\"CONTROLLER\"].append(met_cont)\n",
    "    df_dict[\"EDGE\"].append(prop_dict[key][2])\n",
    "    df_dict[\"POS\"].append(prop_dict[key][0])\n",
    "    df_dict[\"TOTAL\"].append(prop_dict[key][1])\n"
   ]
  },
  {
   "cell_type": "code",
   "execution_count": 44,
   "metadata": {},
   "outputs": [],
   "source": [
    "prop_df = pd.DataFrame.from_dict(df_dict)"
   ]
  },
  {
   "cell_type": "code",
   "execution_count": 45,
   "metadata": {},
   "outputs": [],
   "source": [
    "i = 0\n",
    "input_spec = prop_df[\"INPUT\"]\n",
    "cont_spec = prop_df[\"CONTROLLER\"]\n",
    "ID_PAIRS = {\"ID_PAIRS\": []}\n",
    "for i in range(0, len(input_spec)):\n",
    "    if len(input_spec[i]) > 5:\n",
    "        input_spec_id = input_spec[i].split(\":\")[-2] + \":\" + input_spec[i].split(\":\")[-1]\n",
    "    if len(cont_spec[i]) > 5:\n",
    "        cont_spec_id = cont_spec[i].split(\":\")[-2] + \":\" + cont_spec[i].split(\":\")[-1]\n",
    "    else:\n",
    "        input_spec_id = input_spec\n",
    "        cont_spec_id = cont_spec\n",
    "\n",
    "    ID_PAIRS[\"ID_PAIRS\"].append(f\"{input_spec_id}|{cont_spec_id}\")\n",
    "    i += 1"
   ]
  },
  {
   "cell_type": "code",
   "execution_count": 46,
   "metadata": {},
   "outputs": [],
   "source": [
    "ID_PAIRS_df = pd.DataFrame.from_dict(ID_PAIRS)\n",
    "prop_df = pd.concat([prop_df, ID_PAIRS_df], axis=1, join=\"inner\")\n",
    "with_id = pd.concat([prop_df[\"INPUT\"], prop_df[\"CONTROLLER\"], ID_PAIRS_df], axis=1, join=\"inner\")\n",
    "with_id = with_id.drop_duplicates(subset=\"ID_PAIRS\", inplace=False)"
   ]
  },
  {
   "cell_type": "code",
   "execution_count": 47,
   "metadata": {},
   "outputs": [],
   "source": [
    "unique_dict = {}\n",
    "for pair in ID_PAIRS_df[\"ID_PAIRS\"]:\n",
    "    unique_dict[pair] = [0, 0]\n",
    "\n",
    "i = 0\n",
    "for i in range(len(prop_df[\"ID_PAIRS\"])):\n",
    "    id_pair = prop_df[\"ID_PAIRS\"][i]\n",
    "    unique_dict[id_pair][0] += prop_df[\"POS\"][i]\n",
    "    unique_dict[id_pair][1] += prop_df[\"TOTAL\"][i]"
   ]
  },
  {
   "cell_type": "code",
   "execution_count": 48,
   "metadata": {},
   "outputs": [],
   "source": [
    "pos_t_dict = {\"POS\" : [], \"TOTAL\": [], \"EDGE\": []}\n",
    "\n",
    "for key in unique_dict:\n",
    "    pos_t_dict[\"POS\"].append(unique_dict[key][0])\n",
    "    pos_t_dict[\"TOTAL\"].append(unique_dict[key][1])\n",
    "\n",
    "    proportion = unique_dict[key][0] / unique_dict[key][1]\n",
    "    y = (1/(1+math.exp(-5*(proportion-.5))))\n",
    "    \n",
    "    pos_t_dict[\"EDGE\"].append(y)"
   ]
  },
  {
   "cell_type": "code",
   "execution_count": 49,
   "metadata": {},
   "outputs": [],
   "source": [
    "pos_t_df = pd.DataFrame.from_dict(pos_t_dict)\n",
    "with_id = with_id.reset_index(drop=True)\n",
    "prop_df_reduced = pd.concat([with_id, pos_t_df], axis=1, join=\"inner\")"
   ]
  },
  {
   "cell_type": "code",
   "execution_count": 50,
   "metadata": {},
   "outputs": [
    {
     "data": {
      "text/html": [
       "<div>\n",
       "<style scoped>\n",
       "    .dataframe tbody tr th:only-of-type {\n",
       "        vertical-align: middle;\n",
       "    }\n",
       "\n",
       "    .dataframe tbody tr th {\n",
       "        vertical-align: top;\n",
       "    }\n",
       "\n",
       "    .dataframe thead th {\n",
       "        text-align: right;\n",
       "    }\n",
       "</style>\n",
       "<table border=\"1\" class=\"dataframe\">\n",
       "  <thead>\n",
       "    <tr style=\"text-align: right;\">\n",
       "      <th></th>\n",
       "      <th>INPUT</th>\n",
       "      <th>CONTROLLER</th>\n",
       "      <th>ID_PAIRS</th>\n",
       "      <th>POS</th>\n",
       "      <th>TOTAL</th>\n",
       "      <th>EDGE</th>\n",
       "    </tr>\n",
       "  </thead>\n",
       "  <tbody>\n",
       "    <tr>\n",
       "      <th>0</th>\n",
       "      <td>Bax::uniprot:Q07812.t</td>\n",
       "      <td>Bcl-2::uniprot:P10415.t</td>\n",
       "      <td>uniprot:Q07812.t|uniprot:P10415.t</td>\n",
       "      <td>1.0</td>\n",
       "      <td>7</td>\n",
       "      <td>0.143599</td>\n",
       "    </tr>\n",
       "    <tr>\n",
       "      <th>1</th>\n",
       "      <td>E5</td>\n",
       "      <td>Bax::uniprot:Q07812.t</td>\n",
       "      <td>uniprot:Q07812.t|uniprot:Q07812.t</td>\n",
       "      <td>4.0</td>\n",
       "      <td>4</td>\n",
       "      <td>0.924142</td>\n",
       "    </tr>\n",
       "    <tr>\n",
       "      <th>2</th>\n",
       "      <td>Jagged1::uniprot:P78504.t</td>\n",
       "      <td>Bax::uniprot:Q07812.t</td>\n",
       "      <td>uniprot:P78504.t|uniprot:Q07812.t</td>\n",
       "      <td>0.0</td>\n",
       "      <td>4</td>\n",
       "      <td>0.075858</td>\n",
       "    </tr>\n",
       "    <tr>\n",
       "      <th>3</th>\n",
       "      <td>Notch1::uniprot:P46531.t</td>\n",
       "      <td>Bax::uniprot:Q07812.t</td>\n",
       "      <td>uniprot:P46531.t|uniprot:Q07812.t</td>\n",
       "      <td>0.0</td>\n",
       "      <td>4</td>\n",
       "      <td>0.075858</td>\n",
       "    </tr>\n",
       "    <tr>\n",
       "      <th>4</th>\n",
       "      <td>PCNA::uniprot:P12004.t</td>\n",
       "      <td>Bax::uniprot:Q07812.t</td>\n",
       "      <td>uniprot:P12004.t|uniprot:Q07812.t</td>\n",
       "      <td>8.0</td>\n",
       "      <td>12</td>\n",
       "      <td>0.697059</td>\n",
       "    </tr>\n",
       "    <tr>\n",
       "      <th>...</th>\n",
       "      <td>...</td>\n",
       "      <td>...</td>\n",
       "      <td>...</td>\n",
       "      <td>...</td>\n",
       "      <td>...</td>\n",
       "      <td>...</td>\n",
       "    </tr>\n",
       "    <tr>\n",
       "      <th>2873</th>\n",
       "      <td>E3</td>\n",
       "      <td>Eq::uaz:UAZ4571</td>\n",
       "      <td>uaz:UAZCE94.p@Y311|uaz:UAZ4571</td>\n",
       "      <td>1.0</td>\n",
       "      <td>1</td>\n",
       "      <td>0.924142</td>\n",
       "    </tr>\n",
       "    <tr>\n",
       "      <th>2874</th>\n",
       "      <td>E3</td>\n",
       "      <td>Fpr2::uniprot:P25090</td>\n",
       "      <td>uaz:UAZCE94.p@Y311|uniprot:P25090</td>\n",
       "      <td>1.0</td>\n",
       "      <td>1</td>\n",
       "      <td>0.924142</td>\n",
       "    </tr>\n",
       "    <tr>\n",
       "      <th>2875</th>\n",
       "      <td>E3</td>\n",
       "      <td>Gls1::uniprot:O94925</td>\n",
       "      <td>uaz:UAZCE94.p@Y311|uniprot:O94925</td>\n",
       "      <td>1.0</td>\n",
       "      <td>1</td>\n",
       "      <td>0.924142</td>\n",
       "    </tr>\n",
       "    <tr>\n",
       "      <th>2876</th>\n",
       "      <td>Δ::uaz:UAZCE94.m</td>\n",
       "      <td>SMTs::uaz:UAZ534D5473</td>\n",
       "      <td>uaz:UAZCE94.m|uaz:UAZ534D5473</td>\n",
       "      <td>0.5</td>\n",
       "      <td>1</td>\n",
       "      <td>0.500000</td>\n",
       "    </tr>\n",
       "    <tr>\n",
       "      <th>2877</th>\n",
       "      <td>Δ::uaz:UAZCE94.m</td>\n",
       "      <td>sterol::chebi:CHEBI:15889</td>\n",
       "      <td>uaz:UAZCE94.m|CHEBI:15889</td>\n",
       "      <td>0.5</td>\n",
       "      <td>1</td>\n",
       "      <td>0.500000</td>\n",
       "    </tr>\n",
       "  </tbody>\n",
       "</table>\n",
       "<p>2878 rows × 6 columns</p>\n",
       "</div>"
      ],
      "text/plain": [
       "                          INPUT                 CONTROLLER  \\\n",
       "0         Bax::uniprot:Q07812.t    Bcl-2::uniprot:P10415.t   \n",
       "1                            E5      Bax::uniprot:Q07812.t   \n",
       "2     Jagged1::uniprot:P78504.t      Bax::uniprot:Q07812.t   \n",
       "3      Notch1::uniprot:P46531.t      Bax::uniprot:Q07812.t   \n",
       "4        PCNA::uniprot:P12004.t      Bax::uniprot:Q07812.t   \n",
       "...                         ...                        ...   \n",
       "2873                         E3            Eq::uaz:UAZ4571   \n",
       "2874                         E3       Fpr2::uniprot:P25090   \n",
       "2875                         E3       Gls1::uniprot:O94925   \n",
       "2876           Δ::uaz:UAZCE94.m      SMTs::uaz:UAZ534D5473   \n",
       "2877           Δ::uaz:UAZCE94.m  sterol::chebi:CHEBI:15889   \n",
       "\n",
       "                               ID_PAIRS  POS  TOTAL      EDGE  \n",
       "0     uniprot:Q07812.t|uniprot:P10415.t  1.0      7  0.143599  \n",
       "1     uniprot:Q07812.t|uniprot:Q07812.t  4.0      4  0.924142  \n",
       "2     uniprot:P78504.t|uniprot:Q07812.t  0.0      4  0.075858  \n",
       "3     uniprot:P46531.t|uniprot:Q07812.t  0.0      4  0.075858  \n",
       "4     uniprot:P12004.t|uniprot:Q07812.t  8.0     12  0.697059  \n",
       "...                                 ...  ...    ...       ...  \n",
       "2873     uaz:UAZCE94.p@Y311|uaz:UAZ4571  1.0      1  0.924142  \n",
       "2874  uaz:UAZCE94.p@Y311|uniprot:P25090  1.0      1  0.924142  \n",
       "2875  uaz:UAZCE94.p@Y311|uniprot:O94925  1.0      1  0.924142  \n",
       "2876      uaz:UAZCE94.m|uaz:UAZ534D5473  0.5      1  0.500000  \n",
       "2877          uaz:UAZCE94.m|CHEBI:15889  0.5      1  0.500000  \n",
       "\n",
       "[2878 rows x 6 columns]"
      ]
     },
     "execution_count": 50,
     "metadata": {},
     "output_type": "execute_result"
    }
   ],
   "source": [
    "prop_df_reduced"
   ]
  },
  {
   "cell_type": "code",
   "execution_count": 51,
   "metadata": {},
   "outputs": [],
   "source": [
    "in_cont_id = {\"INPUT_ID\" : [], \"CONT_ID\" : []}\n",
    "for pair in prop_df_reduced[\"ID_PAIRS\"]:\n",
    "    in_id, cont_id = pair.split(\"|\") \n",
    "    in_cont_id[\"INPUT_ID\"].append(in_id)\n",
    "    in_cont_id[\"CONT_ID\"].append(cont_id)\n",
    "in_cont_id_df = pd.DataFrame.from_dict(in_cont_id)\n",
    "with_ids = pd.concat([in_cont_id_df, prop_df_reduced], axis=1)"
   ]
  },
  {
   "cell_type": "code",
   "execution_count": 36,
   "metadata": {},
   "outputs": [],
   "source": [
    "with_ids.to_csv(\"NC_tanh.csv\")"
   ]
  },
  {
   "cell_type": "code",
   "execution_count": null,
   "metadata": {},
   "outputs": [],
   "source": []
  }
 ],
 "metadata": {
  "kernelspec": {
   "display_name": "Python 3",
   "language": "python",
   "name": "python3"
  },
  "language_info": {
   "codemirror_mode": {
    "name": "ipython",
    "version": 3
   },
   "file_extension": ".py",
   "mimetype": "text/x-python",
   "name": "python",
   "nbconvert_exporter": "python",
   "pygments_lexer": "ipython3",
   "version": "3.8.5"
  }
 },
 "nbformat": 4,
 "nbformat_minor": 4
}
