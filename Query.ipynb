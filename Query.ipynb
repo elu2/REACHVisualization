{
 "cells": [
  {
   "cell_type": "code",
   "execution_count": 143,
   "metadata": {},
   "outputs": [],
   "source": [
    "import itertools as it\n",
    "import pandas as pd\n",
    "import csv\n",
    "import math"
   ]
  },
  {
   "cell_type": "code",
   "execution_count": 144,
   "metadata": {},
   "outputs": [],
   "source": [
    "# Function to find the shortest path between two nodes of a graph \n",
    "def BFS_SP(graph, start, goal): \n",
    "    explored = [] \n",
    "      \n",
    "    # Queue for traversing the graph in the BFS \n",
    "    queue = [[start]] \n",
    "      \n",
    "    # If the desired node is reached \n",
    "    if start == goal: \n",
    "        print(\"Same Node\") \n",
    "        return\n",
    "      \n",
    "    # Loop to traverse the graph with the help of the queue \n",
    "    while queue: \n",
    "        path = queue.pop(0) \n",
    "        node = path[-1] \n",
    "          \n",
    "        # Codition to check if the current node is not visited \n",
    "        if node not in explored: \n",
    "            neighbours = graph[node] \n",
    "              \n",
    "            # Loop to iterate over the neighbours of the node \n",
    "            for neighbour in neighbours: \n",
    "                new_path = list(path) \n",
    "                new_path.append(neighbour) \n",
    "                queue.append(new_path) \n",
    "                  \n",
    "                # Condition to check if the neighbour node is the goal \n",
    "                if neighbour == goal: \n",
    "                    print(\"Shortest path = \", *new_path)\n",
    "                    return new_path\n",
    "            explored.append(node) \n",
    "  \n",
    "    # Condition when the nodes are not connected \n",
    "    print(\"No path.\") \n",
    "    return"
   ]
  },
  {
   "cell_type": "code",
   "execution_count": 170,
   "metadata": {},
   "outputs": [],
   "source": [
    "# Make a dictionary for all nodes and their connections.\n",
    "edges_table = pd.read_csv(\"edges_table.csv\", encoding=\"latin-1\")\n",
    "sources = edges_table[\"source\"].tolist()\n",
    "targets = edges_table[\"target\"].tolist()\n",
    "color_col = edges_table[\"color_col\"].tolist()\n",
    "\n",
    "all_species = list(set(sources + targets))\n",
    "\n",
    "i = 0\n",
    "graph_dict = {}\n",
    "for i in range(0, len(all_species)):\n",
    "    graph_dict[all_species[i]] = []\n",
    "\n",
    "for i in range(0, len(sources)):\n",
    "    graph_dict[sources[i]].append(targets[i])"
   ]
  },
  {
   "cell_type": "code",
   "execution_count": 197,
   "metadata": {},
   "outputs": [],
   "source": [
    "# nCr where n is the number of inputs, r is 2 for pairing.\n",
    "\n",
    "queries = []\n",
    "\n",
    "with open(\"query_list.txt\", 'r', encoding=\"UTF-8\") as query_list:\n",
    "    queries = query_list.readlines()\n",
    "\n",
    "queries = [line.strip() for line in queries]\n",
    "\n",
    "output_num = math.factorial(len(queries))/(2*math.factorial((len(queries) - 2)))\n",
    "\n",
    "q_combinations = it.combinations(queries, 2)"
   ]
  },
  {
   "cell_type": "code",
   "execution_count": 198,
   "metadata": {},
   "outputs": [
    {
     "name": "stdout",
     "output_type": "stream",
     "text": [
      "Printed 45.0 Source, Target pairs.\n",
      "No path.\n",
      "No path.\n",
      "No path.\n",
      "No path.\n",
      "No path.\n",
      "No path.\n",
      "No path.\n",
      "No path.\n",
      "No path.\n",
      "No path.\n",
      "Shortest path =  RA::pfam:PF00788 butyrate::chebi:CHEBI:17968 lysozyme::uniprot:P61626 nts::uniprot:P30990\n",
      "Shortest path =  RA::pfam:PF00788 DCs::pubchem:6234 apoptosis::go:GO:0006915 LCN-2::uniprot:P80188\n",
      "Shortest path =  RA::pfam:PF00788 DCs::pubchem:6234 diseases::mesh:D004194 DNA methylation::go:GO:0006306 D4C10::uaz:UAZ4434433130\n",
      "Shortest path =  RA::pfam:PF00788 DCs::pubchem:6234 mice::uniprot:P31944 ß3-AR::uaz:UAZCEB2332D4152\n",
      "No path.\n",
      "No path.\n",
      "Shortest path =  RA::pfam:PF00788 DCs::pubchem:6234 apoptosis::go:GO:0006915 VEGFR1::uniprot:P17948 SU5416::pubchem:5329098\n",
      "No path.\n",
      "No path.\n",
      "No path.\n",
      "No path.\n",
      "No path.\n",
      "No path.\n",
      "No path.\n",
      "Shortest path =  nts::uniprot:P30990 B1::uniprot:P11836 EMT::uniprot:O75751 metastasis::mesh:D009362 LCN-2::uniprot:P80188\n",
      "Shortest path =  nts::uniprot:P30990 B1::uniprot:P11836 EMT::uniprot:O75751 transcription::go:GO:0006351 DNA methylation::go:GO:0006306 D4C10::uaz:UAZ4434433130\n",
      "Shortest path =  nts::uniprot:P30990 B1::uniprot:P11836 EMT::uniprot:O75751 metastasis::mesh:D009362 mice::uniprot:P31944 ß3-AR::uaz:UAZCEB2332D4152\n",
      "No path.\n",
      "No path.\n",
      "Shortest path =  nts::uniprot:P30990 B1::uniprot:P11836 EMT::uniprot:O75751 HCC::uniprot:Q9BYI3 VEGFR2::uniprot:P35968 SU5416::pubchem:5329098\n",
      "No path.\n",
      "No path.\n",
      "No path.\n",
      "No path.\n",
      "No path.\n",
      "No path.\n",
      "No path.\n",
      "No path.\n",
      "No path.\n",
      "No path.\n",
      "No path.\n",
      "No path.\n",
      "No path.\n",
      "Shortest path =  Aß isoforms: Aß::uaz:UAZ41CEB22069736F666F726D733A2041CEB2 APP::uniprot:P05067 SIRT1::uniprot:Q96EB6 TAZ::uniprot:Q16635 VEGFR2::uniprot:P35968 SU5416::pubchem:5329098\n",
      "No path.\n"
     ]
    }
   ],
   "source": [
    "print(f\"Printed {output_num} Source, Target pairs.\")\n",
    "\n",
    "stored_paths = {}\n",
    "for query_pair in q_combinations:\n",
    "    source, target = query_pair\n",
    "    stored_paths[f\"{source} -> {target}\"] = BFS_SP(graph_dict, source, target)"
   ]
  },
  {
   "cell_type": "code",
   "execution_count": 199,
   "metadata": {},
   "outputs": [
    {
     "data": {
      "text/plain": [
       "{'Gpx1::uniprot:P07203 -> RA::pfam:PF00788': None,\n",
       " 'Gpx1::uniprot:P07203 -> SAH-BLC9::uaz:UAZ5341482D424C4339': None,\n",
       " 'Gpx1::uniprot:P07203 -> nts::uniprot:P30990': None,\n",
       " 'Gpx1::uniprot:P07203 -> LCN-2::uniprot:P80188': None,\n",
       " 'Gpx1::uniprot:P07203 -> D4C10::uaz:UAZ4434433130': None,\n",
       " 'Gpx1::uniprot:P07203 -> ß3-AR::uaz:UAZCEB2332D4152': None,\n",
       " 'Gpx1::uniprot:P07203 -> Aß isoforms: Aß::uaz:UAZ41CEB22069736F666F726D733A2041CEB2': None,\n",
       " 'Gpx1::uniprot:P07203 -> Snrpd3::uniprot:P62318': None,\n",
       " 'Gpx1::uniprot:P07203 -> SU5416::pubchem:5329098': None,\n",
       " 'RA::pfam:PF00788 -> SAH-BLC9::uaz:UAZ5341482D424C4339': None,\n",
       " 'RA::pfam:PF00788 -> nts::uniprot:P30990': ['RA::pfam:PF00788',\n",
       "  'butyrate::chebi:CHEBI:17968',\n",
       "  'lysozyme::uniprot:P61626',\n",
       "  'nts::uniprot:P30990'],\n",
       " 'RA::pfam:PF00788 -> LCN-2::uniprot:P80188': ['RA::pfam:PF00788',\n",
       "  'DCs::pubchem:6234',\n",
       "  'apoptosis::go:GO:0006915',\n",
       "  'LCN-2::uniprot:P80188'],\n",
       " 'RA::pfam:PF00788 -> D4C10::uaz:UAZ4434433130': ['RA::pfam:PF00788',\n",
       "  'DCs::pubchem:6234',\n",
       "  'diseases::mesh:D004194',\n",
       "  'DNA methylation::go:GO:0006306',\n",
       "  'D4C10::uaz:UAZ4434433130'],\n",
       " 'RA::pfam:PF00788 -> ß3-AR::uaz:UAZCEB2332D4152': ['RA::pfam:PF00788',\n",
       "  'DCs::pubchem:6234',\n",
       "  'mice::uniprot:P31944',\n",
       "  'ß3-AR::uaz:UAZCEB2332D4152'],\n",
       " 'RA::pfam:PF00788 -> Aß isoforms: Aß::uaz:UAZ41CEB22069736F666F726D733A2041CEB2': None,\n",
       " 'RA::pfam:PF00788 -> Snrpd3::uniprot:P62318': None,\n",
       " 'RA::pfam:PF00788 -> SU5416::pubchem:5329098': ['RA::pfam:PF00788',\n",
       "  'DCs::pubchem:6234',\n",
       "  'apoptosis::go:GO:0006915',\n",
       "  'VEGFR1::uniprot:P17948',\n",
       "  'SU5416::pubchem:5329098'],\n",
       " 'SAH-BLC9::uaz:UAZ5341482D424C4339 -> nts::uniprot:P30990': None,\n",
       " 'SAH-BLC9::uaz:UAZ5341482D424C4339 -> LCN-2::uniprot:P80188': None,\n",
       " 'SAH-BLC9::uaz:UAZ5341482D424C4339 -> D4C10::uaz:UAZ4434433130': None,\n",
       " 'SAH-BLC9::uaz:UAZ5341482D424C4339 -> ß3-AR::uaz:UAZCEB2332D4152': None,\n",
       " 'SAH-BLC9::uaz:UAZ5341482D424C4339 -> Aß isoforms: Aß::uaz:UAZ41CEB22069736F666F726D733A2041CEB2': None,\n",
       " 'SAH-BLC9::uaz:UAZ5341482D424C4339 -> Snrpd3::uniprot:P62318': None,\n",
       " 'SAH-BLC9::uaz:UAZ5341482D424C4339 -> SU5416::pubchem:5329098': None,\n",
       " 'nts::uniprot:P30990 -> LCN-2::uniprot:P80188': ['nts::uniprot:P30990',\n",
       "  'B1::uniprot:P11836',\n",
       "  'EMT::uniprot:O75751',\n",
       "  'metastasis::mesh:D009362',\n",
       "  'LCN-2::uniprot:P80188'],\n",
       " 'nts::uniprot:P30990 -> D4C10::uaz:UAZ4434433130': ['nts::uniprot:P30990',\n",
       "  'B1::uniprot:P11836',\n",
       "  'EMT::uniprot:O75751',\n",
       "  'transcription::go:GO:0006351',\n",
       "  'DNA methylation::go:GO:0006306',\n",
       "  'D4C10::uaz:UAZ4434433130'],\n",
       " 'nts::uniprot:P30990 -> ß3-AR::uaz:UAZCEB2332D4152': ['nts::uniprot:P30990',\n",
       "  'B1::uniprot:P11836',\n",
       "  'EMT::uniprot:O75751',\n",
       "  'metastasis::mesh:D009362',\n",
       "  'mice::uniprot:P31944',\n",
       "  'ß3-AR::uaz:UAZCEB2332D4152'],\n",
       " 'nts::uniprot:P30990 -> Aß isoforms: Aß::uaz:UAZ41CEB22069736F666F726D733A2041CEB2': None,\n",
       " 'nts::uniprot:P30990 -> Snrpd3::uniprot:P62318': None,\n",
       " 'nts::uniprot:P30990 -> SU5416::pubchem:5329098': ['nts::uniprot:P30990',\n",
       "  'B1::uniprot:P11836',\n",
       "  'EMT::uniprot:O75751',\n",
       "  'HCC::uniprot:Q9BYI3',\n",
       "  'VEGFR2::uniprot:P35968',\n",
       "  'SU5416::pubchem:5329098'],\n",
       " 'LCN-2::uniprot:P80188 -> D4C10::uaz:UAZ4434433130': None,\n",
       " 'LCN-2::uniprot:P80188 -> ß3-AR::uaz:UAZCEB2332D4152': None,\n",
       " 'LCN-2::uniprot:P80188 -> Aß isoforms: Aß::uaz:UAZ41CEB22069736F666F726D733A2041CEB2': None,\n",
       " 'LCN-2::uniprot:P80188 -> Snrpd3::uniprot:P62318': None,\n",
       " 'LCN-2::uniprot:P80188 -> SU5416::pubchem:5329098': None,\n",
       " 'D4C10::uaz:UAZ4434433130 -> ß3-AR::uaz:UAZCEB2332D4152': None,\n",
       " 'D4C10::uaz:UAZ4434433130 -> Aß isoforms: Aß::uaz:UAZ41CEB22069736F666F726D733A2041CEB2': None,\n",
       " 'D4C10::uaz:UAZ4434433130 -> Snrpd3::uniprot:P62318': None,\n",
       " 'D4C10::uaz:UAZ4434433130 -> SU5416::pubchem:5329098': None,\n",
       " 'ß3-AR::uaz:UAZCEB2332D4152 -> Aß isoforms: Aß::uaz:UAZ41CEB22069736F666F726D733A2041CEB2': None,\n",
       " 'ß3-AR::uaz:UAZCEB2332D4152 -> Snrpd3::uniprot:P62318': None,\n",
       " 'ß3-AR::uaz:UAZCEB2332D4152 -> SU5416::pubchem:5329098': None,\n",
       " 'Aß isoforms: Aß::uaz:UAZ41CEB22069736F666F726D733A2041CEB2 -> Snrpd3::uniprot:P62318': None,\n",
       " 'Aß isoforms: Aß::uaz:UAZ41CEB22069736F666F726D733A2041CEB2 -> SU5416::pubchem:5329098': ['Aß isoforms: Aß::uaz:UAZ41CEB22069736F666F726D733A2041CEB2',\n",
       "  'APP::uniprot:P05067',\n",
       "  'SIRT1::uniprot:Q96EB6',\n",
       "  'TAZ::uniprot:Q16635',\n",
       "  'VEGFR2::uniprot:P35968',\n",
       "  'SU5416::pubchem:5329098'],\n",
       " 'Snrpd3::uniprot:P62318 -> SU5416::pubchem:5329098': None}"
      ]
     },
     "execution_count": 199,
     "metadata": {},
     "output_type": "execute_result"
    }
   ],
   "source": [
    "stored_paths"
   ]
  },
  {
   "cell_type": "code",
   "execution_count": 165,
   "metadata": {},
   "outputs": [
    {
     "name": "stdout",
     "output_type": "stream",
     "text": [
      "Shortest path =  CAP::uniprot:B0YJ81 TNF-alpha::uniprot:P01375 mice::uniprot:P31944 tumors::mesh:D009369 LXR::fplx:LXR\n"
     ]
    },
    {
     "data": {
      "text/plain": [
       "['CAP::uniprot:B0YJ81',\n",
       " 'TNF-alpha::uniprot:P01375',\n",
       " 'mice::uniprot:P31944',\n",
       " 'tumors::mesh:D009369',\n",
       " 'LXR::fplx:LXR']"
      ]
     },
     "execution_count": 165,
     "metadata": {},
     "output_type": "execute_result"
    }
   ],
   "source": [
    "BFS_SP(graph_dict, 'CAP::uniprot:B0YJ81', 'LXR::fplx:LXR')"
   ]
  }
 ],
 "metadata": {
  "kernelspec": {
   "display_name": "Python 3",
   "language": "python",
   "name": "python3"
  },
  "language_info": {
   "codemirror_mode": {
    "name": "ipython",
    "version": 3
   },
   "file_extension": ".py",
   "mimetype": "text/x-python",
   "name": "python",
   "nbconvert_exporter": "python",
   "pygments_lexer": "ipython3",
   "version": "3.8.5"
  }
 },
 "nbformat": 4,
 "nbformat_minor": 4
}
