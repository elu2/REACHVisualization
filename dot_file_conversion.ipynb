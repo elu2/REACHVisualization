{
 "cells": [
  {
   "cell_type": "markdown",
   "metadata": {},
   "source": [
    "Note: write_dot throws error when node name begins with % sign\n",
    "Some nodes begin with a % sign instead of their correct name (REACH error I think)\n",
    "Grep for any % signs, and manually replace any with the name corresponding to the id\n",
    "\n",
    "Also, save the csv file as UTF 8 csv on excel before importing\n",
    "\n",
    "edgelist should be in format source,target,edge_attributes (remove any source/target attribute columns)\n",
    "\n",
    "Rename csv file to .txt file, then delete the column names (makes it easier to work with)"
   ]
  },
  {
   "cell_type": "code",
   "execution_count": 1,
   "metadata": {},
   "outputs": [],
   "source": [
    "import networkx as nx\n",
    "from networkx.drawing.nx_agraph import write_dot"
   ]
  },
  {
   "cell_type": "code",
   "execution_count": 3,
   "metadata": {},
   "outputs": [],
   "source": [
    "#Read the csv file into a networkx graph object\n",
    "\n",
    "g = nx.read_edgelist(\"subset_query_edges.txt\", create_using=nx.DiGraph, delimiter=\",\", nodetype=str, data=((\"color_col\",float),(\"weight\",int),(\"thickness\",int)))"
   ]
  },
  {
   "cell_type": "code",
   "execution_count": 4,
   "metadata": {},
   "outputs": [],
   "source": [
    "write_dot(g,\"reach_subset.dot\")"
   ]
  }
 ],
 "metadata": {
  "kernelspec": {
   "display_name": "Python 3",
   "language": "python",
   "name": "python3"
  },
  "language_info": {
   "codemirror_mode": {
    "name": "ipython",
    "version": 3
   },
   "file_extension": ".py",
   "mimetype": "text/x-python",
   "name": "python",
   "nbconvert_exporter": "python",
   "pygments_lexer": "ipython3",
   "version": "3.7.6"
  }
 },
 "nbformat": 4,
 "nbformat_minor": 4
}
