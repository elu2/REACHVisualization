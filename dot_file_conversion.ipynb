{
 "cells": [
  {
   "cell_type": "code",
   "execution_count": 1,
   "metadata": {},
   "outputs": [],
   "source": [
    "import networkx as nx\n",
    "from networkx.drawing.nx_agraph import write_dot\n",
    "import os\n",
    "import csv"
   ]
  },
  {
   "cell_type": "code",
   "execution_count": 3,
   "metadata": {},
   "outputs": [],
   "source": [
    "#Read the csv file into a networkx graph object\n",
    "\n",
    "g = nx.read_edgelist(\"edges_fixed.txt\", create_using=nx.DiGraph, delimiter=\",\", nodetype=str, data=((\"color_col\",float),(\"weight\",int),(\"penwidth\",int)))"
   ]
  },
  {
   "cell_type": "code",
   "execution_count": null,
   "metadata": {},
   "outputs": [],
   "source": [
    "#Add edge colorscheme, change to gradients later\n",
    "\n",
    "for e in g.edges():\n",
    "    if g.edges[e][\"color_col\"]<.5:\n",
    "        g.edges[e][\"color\"]=\"blue\"\n",
    "    elif g.edges[e][\"color_col\"]==.5:\n",
    "        g.edges[e][\"color\"]=\"gray\"\n",
    "    else:\n",
    "        g.edges[e][\"color\"]=\"red\""
   ]
  },
  {
   "cell_type": "code",
   "execution_count": null,
   "metadata": {},
   "outputs": [],
   "source": [
    "#Make node dictionary, format=node:node_label\n",
    "node_names={}\n",
    "with open(\"nodes.txt\",\"r\") as infile:\n",
    "    reader=csv.reader(infile)\n",
    "    node_names={row[0]:row[1] for row in reader}"
   ]
  },
  {
   "cell_type": "code",
   "execution_count": null,
   "metadata": {},
   "outputs": [],
   "source": [
    "#Add node labels\n",
    "for n in g.nodes():\n",
    "    parts=node_names[n].split(\"::\")\n",
    "    \n",
    "    #Format: id (common name)\n",
    "    g.nodes[n][\"label\"]=n+\" (\"+parts[0]+\")\""
   ]
  },
  {
   "cell_type": "code",
   "execution_count": 4,
   "metadata": {},
   "outputs": [],
   "source": [
    "out_file_name=\"reach_subset.dot\"\n",
    "write_dot(g,\"reach_subset.dot\")"
   ]
  },
  {
   "cell_type": "code",
   "execution_count": null,
   "metadata": {},
   "outputs": [],
   "source": [
    "#Create visualization\n",
    "os.system(\"sfdp -Goverlap=prism -Nstyle=filled -Nfontcolor=white -Goutputorder=edgesfirst -Tsvg \"+out_file_name+\" -O\")\n",
    "os.system(\"sfdp -Goverlap=prism -Nstyle=filled -Nfontcolor=white -Goutputorder=edgesfirst -Tsvg \"+other+\" -O\")"
   ]
  }
 ],
 "metadata": {
  "kernelspec": {
   "display_name": "Python 3",
   "language": "python",
   "name": "python3"
  },
  "language_info": {
   "codemirror_mode": {
    "name": "ipython",
    "version": 3
   },
   "file_extension": ".py",
   "mimetype": "text/x-python",
   "name": "python",
   "nbconvert_exporter": "python",
   "pygments_lexer": "ipython3",
   "version": "3.7.6"
  }
 },
 "nbformat": 4,
 "nbformat_minor": 4
}
